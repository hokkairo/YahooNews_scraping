{
 "cells": [
  {
   "cell_type": "code",
   "execution_count": 27,
   "metadata": {},
   "outputs": [],
   "source": [
    "import requests\n",
    "from bs4 import BeautifulSoup\n",
    "import time"
   ]
  },
  {
   "cell_type": "code",
   "execution_count": null,
   "metadata": {},
   "outputs": [],
   "source": []
  },
  {
   "cell_type": "code",
   "execution_count": 20,
   "metadata": {},
   "outputs": [
    {
     "name": "stdout",
     "output_type": "stream",
     "text": [
      "検索したいワードを入力してください：暗号通貨\n"
     ]
    }
   ],
   "source": [
    "# requestsでURL先のHTMLデータを取得\n",
    "url = r\"https://news.yahoo.co.jp/search?p={}&ei=utf-8\".format(input(\"検索したいワードを入力してください：\"))\n",
    "r = requests.get(url)"
   ]
  },
  {
   "cell_type": "code",
   "execution_count": 21,
   "metadata": {},
   "outputs": [],
   "source": [
    "# requestsで取得したデータをbsが読めるようにする\n",
    "c = r.content\n",
    "soup = BeautifulSoup(c, 'html.parser')"
   ]
  },
  {
   "cell_type": "code",
   "execution_count": 22,
   "metadata": {},
   "outputs": [],
   "source": [
    "# 個々の記事でnewsFeed_item_linkが含まれるclass名を入力する\n",
    "link = 'newsFeed_item_link'"
   ]
  },
  {
   "cell_type": "code",
   "execution_count": 23,
   "metadata": {},
   "outputs": [],
   "source": [
    "# タイトルとURLを取得\n",
    "news_titles = soup.find_all(class_='newsFeed_item_title')\n",
    "news_urls = soup.find_all('a',class_=link)\n",
    "\n",
    "# 格納と確認\n",
    "news_url = []\n",
    "news_title = []\n",
    "\n",
    "for t,u in zip(news_titles ,news_urls):\n",
    "    news_title.append(t.text)\n",
    "    news_url.append(u.attrs['href'])\n",
    "\n",
    "# print(len(news_title),len(news_url))\n",
    "# print(list(zip(news_title ,news_url)))\n"
   ]
  },
  {
   "cell_type": "code",
   "execution_count": 24,
   "metadata": {},
   "outputs": [],
   "source": [
    "# リンク先記事のyjSlinkDirectlinkが含まれるclassを入力する\n",
    "text_class = 'yjSlinkDirectlink'"
   ]
  },
  {
   "cell_type": "code",
   "execution_count": 28,
   "metadata": {
    "scrolled": true
   },
   "outputs": [
    {
     "name": "stdout",
     "output_type": "stream",
     "text": [
      "Done!\n"
     ]
    }
   ],
   "source": [
    "# url先の記事から1ページ目のテキストを取得する\n",
    "contents = []\n",
    "count = 0\n",
    "for url in news_url:\n",
    "    r = requests.get(url)\n",
    "    time.sleep(2) # サイトに負荷がかからないように\n",
    "    c = r.content\n",
    "    soup = BeautifulSoup(c, \"html.parser\")\n",
    "    content = soup.find_all('p',class_=text_class)\n",
    "    \n",
    "    \n",
    "    soup_check = BeautifulSoup(str(content), 'html.parser')\n",
    "    a = soup_check.find_all('a')\n",
    "    s = soup_check.find_all('style')\n",
    "\n",
    "    if a != []:\n",
    "        soup_check.find('a').decompose()\n",
    "    if s != []:\n",
    "        soup_check.find('style').decompose()\n",
    "    if soup_check == []:\n",
    "        count += 1\n",
    "    else:\n",
    "        pass\n",
    "    \n",
    "    contents.append(soup_check.text)\n",
    "    \n",
    "print(\"Done!\")"
   ]
  },
  {
   "cell_type": "code",
   "execution_count": 29,
   "metadata": {},
   "outputs": [
    {
     "name": "stdout",
     "output_type": "stream",
     "text": [
      "\n",
      "●読み取れなかった記事が0つあります\n",
      "\n",
      "●記事の数\n",
      "50\n"
     ]
    }
   ],
   "source": [
    "print(\"\\n●記事の数\\n{}\".format(len(contents)-count))\n",
    "# print(\"\\n●テキストの表示\\n{}\".format(contents))"
   ]
  },
  {
   "cell_type": "code",
   "execution_count": null,
   "metadata": {},
   "outputs": [],
   "source": []
  }
 ],
 "metadata": {
  "kernelspec": {
   "display_name": "Python 3",
   "language": "python",
   "name": "python3"
  },
  "language_info": {
   "codemirror_mode": {
    "name": "ipython",
    "version": 3
   },
   "file_extension": ".py",
   "mimetype": "text/x-python",
   "name": "python",
   "nbconvert_exporter": "python",
   "pygments_lexer": "ipython3",
   "version": "3.7.6"
  }
 },
 "nbformat": 4,
 "nbformat_minor": 4
}
